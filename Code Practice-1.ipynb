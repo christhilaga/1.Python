{
 "cells": [
  {
   "cell_type": "code",
   "execution_count": 1,
   "metadata": {},
   "outputs": [
    {
     "name": "stdout",
     "output_type": "stream",
     "text": [
      "Enter Input 1:-20\n",
      "Enter Input 2:-22\n",
      "The addition of Two Numbers\n",
      "The Number 1: 20\n",
      "The Number 2: 22\n",
      "The Result is: 42\n"
     ]
    }
   ],
   "source": [
    "Num1=int(input(\"Enter Input 1:-\"))\n",
    "Num2=int(input(\"Enter Input 2:-\"))\n",
    "Add=Num1+Num2\n",
    "print(\"The addition of Two Numbers\")\n",
    "print(\"The Number 1:\",Num1)\n",
    "print(\"The Number 2:\",Num2)\n",
    "print(\"The Result is:\",Add)\n"
   ]
  },
  {
   "cell_type": "code",
   "execution_count": null,
   "metadata": {},
   "outputs": [],
   "source": []
  }
 ],
 "metadata": {
  "kernelspec": {
   "display_name": "Python 3",
   "language": "python",
   "name": "python3"
  },
  "language_info": {
   "codemirror_mode": {
    "name": "ipython",
    "version": 3
   },
   "file_extension": ".py",
   "mimetype": "text/x-python",
   "name": "python",
   "nbconvert_exporter": "python",
   "pygments_lexer": "ipython3",
   "version": "3.7.4"
  }
 },
 "nbformat": 4,
 "nbformat_minor": 2
}
