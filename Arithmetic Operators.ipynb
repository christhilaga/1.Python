{
 "cells": [
  {
   "cell_type": "code",
   "execution_count": 4,
   "metadata": {},
   "outputs": [],
   "source": [
    "#+,-,/,*,%,//,**\n"
   ]
  },
  {
   "cell_type": "code",
   "execution_count": 5,
   "metadata": {},
   "outputs": [
    {
     "name": "stdout",
     "output_type": "stream",
     "text": [
      "Enter Number1:- 20\n",
      "Enter Number2:- 10\n",
      "Add 30\n",
      "Sub 10\n",
      "Mult 200\n",
      "Div 2.0\n",
      "Modulus 0\n",
      "Floor Division  2\n",
      "Exponentiation  10240000000000\n"
     ]
    }
   ],
   "source": [
    "Num1=int(input(\"Enter Number1:- \"))\n",
    "Num2=int(input(\"Enter Number2:- \"))\n",
    "Add=Num1+Num2\n",
    "Sub=Num1-Num2\n",
    "Mult=Num1*Num2\n",
    "Div=Num1/Num2\n",
    "Modulus=Num1%Num2\n",
    "FloorDiv=Num1//Num2\n",
    "Exponentiation=Num1**Num2\n",
    "print(\"Add\",Add)\n",
    "print(\"Sub\",Sub)\n",
    "print(\"Mult\",Mult)\n",
    "print(\"Div\",Div)\n",
    "print(\"Modulus\",Modulus)\n",
    "print(\"Floor Division \",FloorDiv)\n",
    "print(\"Exponentiation \",Exponentiation)\n"
   ]
  },
  {
   "cell_type": "code",
   "execution_count": null,
   "metadata": {},
   "outputs": [],
   "source": [
    "\n"
   ]
  },
  {
   "cell_type": "code",
   "execution_count": null,
   "metadata": {},
   "outputs": [],
   "source": []
  },
  {
   "cell_type": "code",
   "execution_count": null,
   "metadata": {},
   "outputs": [],
   "source": []
  }
 ],
 "metadata": {
  "kernelspec": {
   "display_name": "Python 3",
   "language": "python",
   "name": "python3"
  },
  "language_info": {
   "codemirror_mode": {
    "name": "ipython",
    "version": 3
   },
   "file_extension": ".py",
   "mimetype": "text/x-python",
   "name": "python",
   "nbconvert_exporter": "python",
   "pygments_lexer": "ipython3",
   "version": "3.7.4"
  }
 },
 "nbformat": 4,
 "nbformat_minor": 2
}
