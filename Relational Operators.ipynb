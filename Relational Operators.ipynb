{
 "cells": [
  {
   "cell_type": "code",
   "execution_count": 1,
   "metadata": {},
   "outputs": [
    {
     "name": "stdout",
     "output_type": "stream",
     "text": [
      "Enter Input 1:-10\n",
      "Enter Input 2:-10\n",
      "Input 1 and Input 2 is Equal True\n",
      "Input 1 and Input 2 is NotEquql False\n",
      "Input 1 is Greater Than Input 2 is  False\n",
      "Input 1 is LesserThan Input 2 is  False\n",
      "Input 1 and Input 2 is Greaterthan or Equal True\n",
      "Input 1 and Input 2 is LesserThan or Equql True\n"
     ]
    }
   ],
   "source": [
    "Num1=int(input(\"Enter Input 1:-\"))\n",
    "Num2=int(input(\"Enter Input 2:-\"))\n",
    "EqualTo= Num1==Num2\n",
    "NotEqualTo = Num1!=Num2\n",
    "GreaterThan=Num1>Num2\n",
    "LessThan=Num1<Num2\n",
    "GTEQ=Num1>=Num2\n",
    "LTEQ=Num1<=Num2\n",
    "print(\"Input 1 and Input 2 is Equal-\",EqualTo)\n",
    "print(\"Input 1 and Input 2 is NotEquql-\",NotEqualTo)\n",
    "print(\"Input 1 is Greater Than Input 2 is \",GreaterThan)\n",
    "print(\"Input 1 is LesserThan Input 2 is \",LessThan)\n",
    "print(\"Input 1 and Input 2 is Greaterthan or Equal\",GTEQ)\n",
    "print(\"Input 1 and Input 2 is LesserThan or Equql\",LTEQ)"
   ]
  },
  {
   "cell_type": "code",
   "execution_count": null,
   "metadata": {},
   "outputs": [],
   "source": []
  }
 ],
 "metadata": {
  "kernelspec": {
   "display_name": "Python 3",
   "language": "python",
   "name": "python3"
  },
  "language_info": {
   "codemirror_mode": {
    "name": "ipython",
    "version": 3
   },
   "file_extension": ".py",
   "mimetype": "text/x-python",
   "name": "python",
   "nbconvert_exporter": "python",
   "pygments_lexer": "ipython3",
   "version": "3.7.4"
  }
 },
 "nbformat": 4,
 "nbformat_minor": 2
}
