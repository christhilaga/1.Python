{
 "cells": [
  {
   "cell_type": "code",
   "execution_count": 8,
   "metadata": {},
   "outputs": [
    {
     "name": "stdout",
     "output_type": "stream",
     "text": [
      "Enter Your Mark:-76\n",
      "First Class\n"
     ]
    }
   ],
   "source": [
    "#If-Elif\n",
    "\n",
    "Mark=int(input(\"Enter Your Mark:-\"))\n",
    "if(Mark<35):\n",
    "    print(\"Fail\")\n",
    "elif(Mark<75):\n",
    "    print(\"Second Class\")\n",
    "elif(Mark<101):\n",
    "    print(\"First Class\")\n",
    "elif(Mark>100):\n",
    "    print(\"Invalid Input\")"
   ]
  },
  {
   "cell_type": "code",
   "execution_count": null,
   "metadata": {},
   "outputs": [],
   "source": []
  },
  {
   "cell_type": "code",
   "execution_count": null,
   "metadata": {},
   "outputs": [],
   "source": []
  }
 ],
 "metadata": {
  "kernelspec": {
   "display_name": "Python 3",
   "language": "python",
   "name": "python3"
  },
  "language_info": {
   "codemirror_mode": {
    "name": "ipython",
    "version": 3
   },
   "file_extension": ".py",
   "mimetype": "text/x-python",
   "name": "python",
   "nbconvert_exporter": "python",
   "pygments_lexer": "ipython3",
   "version": "3.7.4"
  }
 },
 "nbformat": 4,
 "nbformat_minor": 2
}
